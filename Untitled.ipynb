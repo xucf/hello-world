{
 "cells": [
  {
   "cell_type": "code",
   "execution_count": 3,
   "metadata": {
    "collapsed": false
   },
   "outputs": [
    {
     "name": "stdout",
     "output_type": "stream",
     "text": [
      "inquire/\n",
      "pid jetton money bet blind | check | call | raise | all_in | fold\n",
      "pid jetton money bet blind | check | call | raise | all_in | fold\n",
      "pid jetton money bet blind | check | call | raise | all_in | fold\n",
      "pid jetton money bet blind | check | call | raise | all_in | fold\n",
      "pid jetton money bet blind | check | call | raise | all_in | fold\n",
      "pid jetton money bet blind | check | call | raise | all_in | fold\n",
      "pid jetton money bet blind | check | call | raise | all_in | fold\n",
      "pid jetton money bet blind | check | call | raise | all_in | fold\n",
      "total pot: 0\n",
      "/inquire\n"
     ]
    }
   ],
   "source": [
    "# inquire-msg\n",
    "print 'inquire/'\n",
    "i = 0\n",
    "for i in range(0, 8):\n",
    "    print 'pid jetton money bet blind | check | call | raise | all_in | fold'\n",
    "print 'total pot: 0'\n",
    "print '/inquire'"
   ]
  },
  {
   "cell_type": "code",
   "execution_count": 9,
   "metadata": {
    "collapsed": false
   },
   "outputs": [
    {
     "name": "stdout",
     "output_type": "stream",
     "text": [
      "CLUBS A\n",
      "SPADES 10\n"
     ]
    }
   ],
   "source": [
    "SUITS = ('CLUBS', 'SPADES', 'HEARTS', 'DIAMONDS')\n",
    "RANKS = ('2', '3', '4', '5', '6', '7', '8', '9', '10', 'J', 'Q', 'K', 'A')\n",
    "\n",
    "# define card class\n",
    "class Card:\n",
    "    def __init__(self, suit, rank):\n",
    "        if (suit in SUITS) and (rank in RANKS):\n",
    "            self.suit = suit\n",
    "            self.rank = rank\n",
    "        else:\n",
    "            print \"Invalid card: \", suit, rank\n",
    "\n",
    "    def __str__(self):\n",
    "        # in huawei api: return 'color point eol'\n",
    "        return self.suit + ' ' + self.rank\n",
    "\n",
    "    def get_suit(self):\n",
    "        return self.suit\n",
    "\n",
    "    def get_rank(self):\n",
    "        return self.rank\n",
    "\n",
    "spade1 = Card('CLUBS', 'A')\n",
    "print spade1\n",
    "spade5 = Card('SPADES', '10')\n",
    "print spade5"
   ]
  },
  {
   "cell_type": "code",
   "execution_count": 10,
   "metadata": {
    "collapsed": false
   },
   "outputs": [
    {
     "name": "stdout",
     "output_type": "stream",
     "text": [
      "hold/\n",
      "CLUBS A\n",
      "SPADES 5\n",
      "/hold\n"
     ]
    }
   ],
   "source": [
    "# hold-cards-msg\n",
    "print 'hold/'\n",
    "spade1 = Card('CLUBS', 'A')\n",
    "print spade1\n",
    "spade5 = Card('SPADES', '5')\n",
    "print spade5\n",
    "print '/hold'"
   ]
  },
  {
   "cell_type": "code",
   "execution_count": 17,
   "metadata": {
    "collapsed": false
   },
   "outputs": [
    {
     "name": "stdout",
     "output_type": "stream",
     "text": [
      "HEARTS 7\n",
      "HEARTS 2\n",
      "DIAMONDS 10\n",
      "SPADES 10\n",
      "HEARTS 10\n",
      "HEARTS A\n",
      "DIAMONDS Q\n",
      "DIAMONDS 9\n",
      "CLUBS 7\n",
      "SPADES Q\n"
     ]
    }
   ],
   "source": [
    "# get random card\n",
    "import random\n",
    "\n",
    "def random_card():\n",
    "    return Card(random.choice(SUITS), random.choice(RANKS))\n",
    "\n",
    "j = 0\n",
    "for j in range(0, 10):\n",
    "    print random_card()"
   ]
  },
  {
   "cell_type": "code",
   "execution_count": 19,
   "metadata": {
    "collapsed": false
   },
   "outputs": [
    {
     "name": "stdout",
     "output_type": "stream",
     "text": [
      "hold/\n",
      "HEARTS 9\n",
      "SPADES A\n",
      "/hold\n"
     ]
    }
   ],
   "source": [
    "# hold-cards-msg\n",
    "print 'hold/'\n",
    "print random_card()\n",
    "print random_card()\n",
    "print '/hold'"
   ]
  },
  {
   "cell_type": "code",
   "execution_count": 51,
   "metadata": {
    "collapsed": false
   },
   "outputs": [
    {
     "name": "stdout",
     "output_type": "stream",
     "text": [
      "hold/\n",
      "CLUBS 2\n",
      "SPADES 4\n",
      "/hold\n",
      "hold/\n",
      "HEARTS 9\n",
      "HEARTS Q\n",
      "/hold\n"
     ]
    }
   ],
   "source": [
    "def hold_cards_msg(card1=0, card2=0):\n",
    "    print 'hold/'\n",
    "    list = gen_card_list(2)\n",
    "    if not card1:\n",
    "        print list.pop()\n",
    "    else:\n",
    "        print card1\n",
    "    if not card2: \n",
    "        print list.pop()\n",
    "    else:\n",
    "        print card2\n",
    "    print '/hold'\n",
    "\n",
    "                \n",
    "hold_cards_msg()\n",
    "hold_cards_msg(random_card(), random_card())"
   ]
  },
  {
   "cell_type": "code",
   "execution_count": 50,
   "metadata": {
    "collapsed": false
   },
   "outputs": [
    {
     "name": "stdout",
     "output_type": "stream",
     "text": [
      "DIAMONDS 5\n",
      "DIAMONDS 5\n",
      "DIAMONDS 3\n",
      "SPADES 5\n",
      "CLUBS 3\n",
      "HEARTS 6\n",
      "SPADES 10\n",
      "CLUBS 9\n"
     ]
    }
   ],
   "source": [
    "# generate a card list from a 52-card deck\n",
    "# a better way to generate a hand: generate enough cards at a time as a list.\n",
    "# e.g. 2*num_of_player+1+3+1+1+1+1 = 2*num_of_player+8\n",
    "# simplify: 2*num_of_player + 5\n",
    "def gen_card_list(card_needed):\n",
    "    i = 0\n",
    "    # init 52 card deck and shuffle it\n",
    "    deck = []\n",
    "    for suit in SUITS:\n",
    "        for rank in RANKS:\n",
    "            deck.append(Card(suit, rank))\n",
    "    random.shuffle(deck)\n",
    "\n",
    "    card_list = []\n",
    "    for i in range(0, card_needed):\n",
    "        card_list.append(deck.pop())\n",
    "    return card_list\n",
    "\n",
    "print j\n",
    "#test gen_card_list\n",
    "for j in gen_card_list(7):\n",
    "    print j"
   ]
  },
  {
   "cell_type": "code",
   "execution_count": 54,
   "metadata": {
    "collapsed": false
   },
   "outputs": [
    {
     "name": "stdout",
     "output_type": "stream",
     "text": [
      "flop/\n",
      "DIAMONDS 6\n",
      "HEARTS 2\n",
      "HEARTS 9\n",
      "/flop\n",
      "flop/\n",
      "SPADES Q\n",
      "HEARTS 10\n",
      "SPADES 2\n",
      "/flop\n"
     ]
    }
   ],
   "source": [
    "# flop-msg\n",
    "def flop_msg(card1=0, card2=0, card3=0):\n",
    "    print 'flop/'\n",
    "    list = gen_card_list(3)\n",
    "    if not card1:\n",
    "        print list.pop()\n",
    "    else:\n",
    "        print card1\n",
    "    if not card2: \n",
    "        print list.pop()\n",
    "    else:\n",
    "        print card2\n",
    "    if not card3: \n",
    "        print list.pop()\n",
    "    else:\n",
    "        print card3\n",
    "    print '/flop'\n",
    "#test hold-cards-msg\n",
    "flop_msg()\n",
    "flop_msg(random_card(), Card(\"HEARTS\", \"10\"), Card(\"SPADES\", \"2\"))"
   ]
  },
  {
   "cell_type": "code",
   "execution_count": 57,
   "metadata": {
    "collapsed": false
   },
   "outputs": [
    {
     "name": "stdout",
     "output_type": "stream",
     "text": [
      "turn/\n",
      "DIAMONDS J\n",
      "/turn\n",
      "turn/\n",
      "HEARTS 10\n",
      "/turn\n"
     ]
    }
   ],
   "source": [
    "# turn-msg\n",
    "def turn_msg(card=0):\n",
    "    print 'turn/'\n",
    "    list = gen_card_list(1)\n",
    "    if not card:\n",
    "        print list.pop()\n",
    "    else:\n",
    "        print card\n",
    "    print '/turn'\n",
    "turn_msg()\n",
    "turn_msg(Card(\"HEARTS\", \"10\"))"
   ]
  },
  {
   "cell_type": "code",
   "execution_count": null,
   "metadata": {
    "collapsed": true
   },
   "outputs": [],
   "source": []
  }
 ],
 "metadata": {
  "kernelspec": {
   "display_name": "Python 2",
   "language": "python",
   "name": "python2"
  },
  "language_info": {
   "codemirror_mode": {
    "name": "ipython",
    "version": 2
   },
   "file_extension": ".py",
   "mimetype": "text/x-python",
   "name": "python",
   "nbconvert_exporter": "python",
   "pygments_lexer": "ipython2",
   "version": "2.7.6"
  }
 },
 "nbformat": 4,
 "nbformat_minor": 0
}
